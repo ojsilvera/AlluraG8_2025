{
  "cells": [
    {
      "cell_type": "markdown",
      "metadata": {
        "id": "ZK89HxnuVT_Q"
      },
      "source": [
        "Metodo de impresion con python"
      ]
    },
    {
      "cell_type": "code",
      "execution_count": null,
      "metadata": {
        "colab": {
          "base_uri": "https://localhost:8080/"
        },
        "id": "aCgW3zqdUET1",
        "outputId": "4ac42899-c5a9-4692-a496-bdc27041271a"
      },
      "outputs": [],
      "source": [
        "print(\"Hello World\")"
      ]
    },
    {
      "cell_type": "markdown",
      "metadata": {
        "id": "V4AkAMUCVX7X"
      },
      "source": [
        "Almacenar en un variable llamada, suma_dos_numeros , el resultado de la suma de 1232 + 2314"
      ]
    },
    {
      "cell_type": "code",
      "execution_count": null,
      "metadata": {
        "id": "LUDgNfqpU51_"
      },
      "outputs": [],
      "source": [
        "suma_dos_numeros = 1232 + 2314"
      ]
    },
    {
      "cell_type": "markdown",
      "metadata": {
        "id": "khGgrKf1VhiF"
      },
      "source": [
        "Imprime el resultado de la suma"
      ]
    },
    {
      "cell_type": "code",
      "execution_count": null,
      "metadata": {
        "colab": {
          "base_uri": "https://localhost:8080/"
        },
        "id": "RmgSkTbrU8GA",
        "outputId": "fd17a201-2ecb-485a-a01c-d9be580148ee"
      },
      "outputs": [],
      "source": [
        "print(suma_dos_numeros)"
      ]
    },
    {
      "cell_type": "code",
      "execution_count": null,
      "metadata": {},
      "outputs": [],
      "source": [
        "# Install pandas if not already installed\n",
        "%pip install pandas"
      ]
    },
    {
      "cell_type": "code",
      "execution_count": null,
      "metadata": {
        "id": "1Guwa8EKVH4G"
      },
      "outputs": [],
      "source": [
        "import pandas as pd"
      ]
    },
    {
      "cell_type": "code",
      "execution_count": null,
      "metadata": {
        "id": "dhLg0O-cVMo2"
      },
      "outputs": [],
      "source": [
        "base_de_datos = pd.read_csv(\"https://raw.githubusercontent.com/alura-cursos/formacao-data-science/master/movies.csv\")"
      ]
    },
    {
      "cell_type": "code",
      "execution_count": null,
      "metadata": {
        "colab": {
          "base_uri": "https://localhost:8080/",
          "height": 206
        },
        "id": "47XP5UZTe3Hn",
        "outputId": "e74cefd1-fd52-4a25-b57d-91247a028f34"
      },
      "outputs": [],
      "source": [
        "base_de_datos.head()"
      ]
    },
    {
      "cell_type": "code",
      "execution_count": null,
      "metadata": {
        "colab": {
          "base_uri": "https://localhost:8080/",
          "height": 206
        },
        "id": "6IWbnlBje5eu",
        "outputId": "4d6ac128-4a7f-4828-ba6b-abb0a18b25d5"
      },
      "outputs": [],
      "source": [
        "base_de_datos.tail()"
      ]
    },
    {
      "cell_type": "code",
      "execution_count": null,
      "metadata": {
        "id": "vpzHSxLwe-Ke"
      },
      "outputs": [],
      "source": []
    }
  ],
  "metadata": {
    "colab": {
      "provenance": [],
      "toc_visible": true
    },
    "kernelspec": {
      "display_name": "Python 3",
      "name": "python3"
    },
    "language_info": {
      "codemirror_mode": {
        "name": "ipython",
        "version": 3
      },
      "file_extension": ".py",
      "mimetype": "text/x-python",
      "name": "python",
      "nbconvert_exporter": "python",
      "pygments_lexer": "ipython3",
      "version": "3.13.3"
    }
  },
  "nbformat": 4,
  "nbformat_minor": 0
}
